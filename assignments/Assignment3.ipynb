{
 "cells": [
  {
   "cell_type": "markdown",
   "metadata": {
    "id": "OtNEmC1KvY4O"
   },
   "source": [
    "# **AI Assignment 3**"
   ]
  },
  {
   "cell_type": "code",
   "execution_count": 1,
   "metadata": {
    "colab": {
     "base_uri": "https://localhost:8080/"
    },
    "id": "GV96Cf3DUv4p",
    "outputId": "eb9aefec-ec87-4632-823d-ce8c6e5a86b6"
   },
   "outputs": [],
   "source": [
    "#!unzip 'archive.zip' "
   ]
  },
  {
   "cell_type": "code",
   "execution_count": 2,
   "metadata": {
    "id": "GrFj03Wr9Gq5"
   },
   "outputs": [],
   "source": [
    "from tensorflow.keras.preprocessing.image import ImageDataGenerator"
   ]
  },
  {
   "cell_type": "code",
   "execution_count": 3,
   "metadata": {
    "id": "2SBFlAVqVFms"
   },
   "outputs": [],
   "source": [
    "train_gen = ImageDataGenerator(rescale=(1./255),horizontal_flip=True,shear_range=0.2)\n",
    "test_gen = ImageDataGenerator(rescale=(1./255)) "
   ]
  },
  {
   "cell_type": "code",
   "execution_count": 4,
   "metadata": {
    "colab": {
     "base_uri": "https://localhost:8080/"
    },
    "id": "D8HE1DkKVMnT",
    "outputId": "76864afb-e16d-44e1-a958-334b4d2a55b0"
   },
   "outputs": [
    {
     "name": "stdout",
     "output_type": "stream",
     "text": [
      "Found 150 images belonging to 16 classes.\n",
      "Found 157 images belonging to 16 classes.\n"
     ]
    }
   ],
   "source": [
    "train = train_gen.flow_from_directory('train_data/train_data',\n",
    "                                      target_size=(120, 120),\n",
    "                                      class_mode='categorical', \n",
    "                                      batch_size=8)\n",
    "test = test_gen.flow_from_directory('test_data/test_data',\n",
    "                                    target_size=(120, 120),\n",
    "                                      class_mode='categorical', \n",
    "                                      batch_size=8)"
   ]
  },
  {
   "cell_type": "code",
   "execution_count": 5,
   "metadata": {
    "colab": {
     "base_uri": "https://localhost:8080/"
    },
    "id": "oYlK71RyVUni",
    "outputId": "9273a48e-3be5-44d7-996d-a62f882048f0"
   },
   "outputs": [
    {
     "data": {
      "text/plain": [
       "{'blasti': 0,\n",
       " 'bonegl': 1,\n",
       " 'brhkyt': 2,\n",
       " 'cbrtsh': 3,\n",
       " 'cmnmyn': 4,\n",
       " 'gretit': 5,\n",
       " 'hilpig': 6,\n",
       " 'himbul': 7,\n",
       " 'himgri': 8,\n",
       " 'hsparo': 9,\n",
       " 'indvul': 10,\n",
       " 'jglowl': 11,\n",
       " 'lbicrw': 12,\n",
       " 'mgprob': 13,\n",
       " 'rebimg': 14,\n",
       " 'wcrsrt': 15}"
      ]
     },
     "execution_count": 5,
     "metadata": {},
     "output_type": "execute_result"
    }
   ],
   "source": [
    "train.class_indices"
   ]
  },
  {
   "cell_type": "code",
   "execution_count": 6,
   "metadata": {
    "colab": {
     "base_uri": "https://localhost:8080/"
    },
    "id": "lEyycwvPAdRq",
    "outputId": "fc696ef3-0a2c-4805-b469-0ea30595de35"
   },
   "outputs": [
    {
     "data": {
      "text/plain": [
       "{'blasti': 0,\n",
       " 'bonegl': 1,\n",
       " 'brhkyt': 2,\n",
       " 'cbrtsh': 3,\n",
       " 'cmnmyn': 4,\n",
       " 'gretit': 5,\n",
       " 'hilpig': 6,\n",
       " 'himbul': 7,\n",
       " 'himgri': 8,\n",
       " 'hsparo': 9,\n",
       " 'indvul': 10,\n",
       " 'jglowl': 11,\n",
       " 'lbicrw': 12,\n",
       " 'mgprob': 13,\n",
       " 'rebimg': 14,\n",
       " 'wcrsrt': 15}"
      ]
     },
     "execution_count": 6,
     "metadata": {},
     "output_type": "execute_result"
    }
   ],
   "source": [
    "test.class_indices"
   ]
  },
  {
   "cell_type": "code",
   "execution_count": 7,
   "metadata": {
    "id": "XVwroUNWVYHq"
   },
   "outputs": [],
   "source": [
    "from tensorflow.keras.layers import Convolution2D,MaxPooling2D,Flatten,Dense\n",
    "from tensorflow.keras.models import Sequential"
   ]
  },
  {
   "cell_type": "code",
   "execution_count": 8,
   "metadata": {
    "id": "ectaZf_XYTB8"
   },
   "outputs": [],
   "source": [
    "model = Sequential()\n",
    "model.add(Convolution2D(12, (3, 3), activation='relu', input_shape=(120, 120, 3)))\n",
    "model.add(MaxPooling2D(pool_size=(2, 2)))\n",
    "model.add(Convolution2D(24, (3, 3), activation='relu'))\n",
    "model.add(MaxPooling2D(pool_size=(2, 2)))\n",
    "model.add(Convolution2D(36, (3, 3), activation='relu'))\n",
    "model.add(MaxPooling2D(pool_size=(2, 2)))\n",
    "model.add(Flatten())\n",
    "model.add(Dense(62, activation='relu'))\n",
    "model.add(Dense(32, activation='relu'))\n",
    "model.add(Dense(16, activation='relu'))\n",
    "model.add(Dense(16, activation='softmax'))\n"
   ]
  },
  {
   "cell_type": "code",
   "execution_count": 9,
   "metadata": {
    "colab": {
     "base_uri": "https://localhost:8080/"
    },
    "id": "pTlaT-1XYYDL",
    "outputId": "f31ed055-0be8-478f-8b94-229865c40f8d"
   },
   "outputs": [
    {
     "name": "stdout",
     "output_type": "stream",
     "text": [
      "Model: \"sequential\"\n",
      "_________________________________________________________________\n",
      " Layer (type)                Output Shape              Param #   \n",
      "=================================================================\n",
      " conv2d (Conv2D)             (None, 118, 118, 12)      336       \n",
      "                                                                 \n",
      " max_pooling2d (MaxPooling2D  (None, 59, 59, 12)       0         \n",
      " )                                                               \n",
      "                                                                 \n",
      " conv2d_1 (Conv2D)           (None, 57, 57, 24)        2616      \n",
      "                                                                 \n",
      " max_pooling2d_1 (MaxPooling  (None, 28, 28, 24)       0         \n",
      " 2D)                                                             \n",
      "                                                                 \n",
      " conv2d_2 (Conv2D)           (None, 26, 26, 36)        7812      \n",
      "                                                                 \n",
      " max_pooling2d_2 (MaxPooling  (None, 13, 13, 36)       0         \n",
      " 2D)                                                             \n",
      "                                                                 \n",
      " flatten (Flatten)           (None, 6084)              0         \n",
      "                                                                 \n",
      " dense (Dense)               (None, 62)                377270    \n",
      "                                                                 \n",
      " dense_1 (Dense)             (None, 32)                2016      \n",
      "                                                                 \n",
      " dense_2 (Dense)             (None, 16)                528       \n",
      "                                                                 \n",
      " dense_3 (Dense)             (None, 16)                272       \n",
      "                                                                 \n",
      "=================================================================\n",
      "Total params: 390,850\n",
      "Trainable params: 390,850\n",
      "Non-trainable params: 0\n",
      "_________________________________________________________________\n"
     ]
    }
   ],
   "source": [
    "model.summary()"
   ]
  },
  {
   "cell_type": "code",
   "execution_count": 10,
   "metadata": {
    "id": "JAlUm3dVYhOY"
   },
   "outputs": [],
   "source": [
    "model.compile(optimizer='adam',loss='categorical_crossentropy',metrics=['accuracy'])"
   ]
  },
  {
   "cell_type": "code",
   "execution_count": 11,
   "metadata": {
    "colab": {
     "base_uri": "https://localhost:8080/"
    },
    "id": "plVoDNcIEibs",
    "outputId": "3dfd40d5-4451-4e2e-b718-42dc3459f182"
   },
   "outputs": [
    {
     "name": "stdout",
     "output_type": "stream",
     "text": [
      "Epoch 1/25\n",
      "19/19 [==============================] - 40s 2s/step - loss: 2.7646 - accuracy: 0.0933 - val_loss: 2.7066 - val_accuracy: 0.1529\n",
      "Epoch 2/25\n",
      "19/19 [==============================] - 45s 2s/step - loss: 2.6441 - accuracy: 0.1667 - val_loss: 2.5788 - val_accuracy: 0.1783\n",
      "Epoch 3/25\n",
      "19/19 [==============================] - 90s 5s/step - loss: 2.5186 - accuracy: 0.1867 - val_loss: 2.5761 - val_accuracy: 0.1592\n",
      "Epoch 4/25\n",
      "19/19 [==============================] - 89s 5s/step - loss: 2.4876 - accuracy: 0.2133 - val_loss: 2.5897 - val_accuracy: 0.1975\n",
      "Epoch 5/25\n",
      "19/19 [==============================] - 70s 4s/step - loss: 2.3447 - accuracy: 0.2133 - val_loss: 2.5649 - val_accuracy: 0.1847\n",
      "Epoch 6/25\n",
      "19/19 [==============================] - 92s 5s/step - loss: 2.3481 - accuracy: 0.2200 - val_loss: 2.5695 - val_accuracy: 0.2803\n",
      "Epoch 7/25\n",
      "19/19 [==============================] - 93s 5s/step - loss: 2.2423 - accuracy: 0.2600 - val_loss: 2.5848 - val_accuracy: 0.2357\n",
      "Epoch 8/25\n",
      "19/19 [==============================] - 86s 5s/step - loss: 2.2390 - accuracy: 0.2867 - val_loss: 2.6125 - val_accuracy: 0.1975\n",
      "Epoch 9/25\n",
      "19/19 [==============================] - 31s 2s/step - loss: 2.1477 - accuracy: 0.3200 - val_loss: 2.6191 - val_accuracy: 0.2548\n",
      "Epoch 10/25\n",
      "19/19 [==============================] - 89s 5s/step - loss: 2.0641 - accuracy: 0.3133 - val_loss: 2.5541 - val_accuracy: 0.2548\n",
      "Epoch 11/25\n",
      "19/19 [==============================] - 92s 5s/step - loss: 1.9848 - accuracy: 0.3600 - val_loss: 2.6520 - val_accuracy: 0.2229\n",
      "Epoch 12/25\n",
      "19/19 [==============================] - 94s 5s/step - loss: 2.0909 - accuracy: 0.3000 - val_loss: 2.5460 - val_accuracy: 0.2357\n",
      "Epoch 13/25\n",
      "19/19 [==============================] - 95s 5s/step - loss: 1.8640 - accuracy: 0.3733 - val_loss: 2.6641 - val_accuracy: 0.2293\n",
      "Epoch 14/25\n",
      "19/19 [==============================] - 93s 5s/step - loss: 1.8171 - accuracy: 0.4000 - val_loss: 2.8307 - val_accuracy: 0.2102\n",
      "Epoch 15/25\n",
      "19/19 [==============================] - 91s 5s/step - loss: 1.7945 - accuracy: 0.3800 - val_loss: 2.8025 - val_accuracy: 0.2357\n",
      "Epoch 16/25\n",
      "19/19 [==============================] - 92s 5s/step - loss: 1.7799 - accuracy: 0.3467 - val_loss: 2.5998 - val_accuracy: 0.2611\n",
      "Epoch 17/25\n",
      "19/19 [==============================] - 86s 5s/step - loss: 1.6991 - accuracy: 0.3800 - val_loss: 2.8818 - val_accuracy: 0.2166\n",
      "Epoch 18/25\n",
      "19/19 [==============================] - 91s 5s/step - loss: 1.5521 - accuracy: 0.5000 - val_loss: 2.8132 - val_accuracy: 0.2675\n",
      "Epoch 19/25\n",
      "19/19 [==============================] - 76s 4s/step - loss: 1.6593 - accuracy: 0.3667 - val_loss: 2.8357 - val_accuracy: 0.1783\n",
      "Epoch 20/25\n",
      "19/19 [==============================] - 94s 5s/step - loss: 1.5747 - accuracy: 0.4467 - val_loss: 2.7800 - val_accuracy: 0.2866\n",
      "Epoch 21/25\n",
      "19/19 [==============================] - 56s 3s/step - loss: 1.5050 - accuracy: 0.4933 - val_loss: 2.6031 - val_accuracy: 0.2866\n",
      "Epoch 22/25\n",
      "19/19 [==============================] - 42s 2s/step - loss: 1.4692 - accuracy: 0.4867 - val_loss: 2.6710 - val_accuracy: 0.2675\n",
      "Epoch 23/25\n",
      "19/19 [==============================] - 43s 2s/step - loss: 1.2757 - accuracy: 0.6000 - val_loss: 2.9376 - val_accuracy: 0.2166\n",
      "Epoch 24/25\n",
      "19/19 [==============================] - 43s 2s/step - loss: 1.2255 - accuracy: 0.5600 - val_loss: 3.7556 - val_accuracy: 0.2420\n",
      "Epoch 25/25\n",
      "19/19 [==============================] - 38s 2s/step - loss: 1.3053 - accuracy: 0.5800 - val_loss: 3.0729 - val_accuracy: 0.3121\n"
     ]
    },
    {
     "data": {
      "text/plain": [
       "<keras.callbacks.History at 0x24ef26d79d0>"
      ]
     },
     "execution_count": 11,
     "metadata": {},
     "output_type": "execute_result"
    }
   ],
   "source": [
    "model.fit(train,batch_size=8,validation_data=test,epochs=25)"
   ]
  },
  {
   "cell_type": "code",
   "execution_count": 12,
   "metadata": {
    "id": "xU5VuF70TTyT"
   },
   "outputs": [],
   "source": [
    "model.save('birdsWeights.h5')"
   ]
  },
  {
   "cell_type": "code",
   "execution_count": 13,
   "metadata": {
    "id": "BaELvxfFTYe7"
   },
   "outputs": [],
   "source": [
    "# Testing\n",
    "import numpy as np\n",
    "from tensorflow.keras.preprocessing import image"
   ]
  },
  {
   "cell_type": "code",
   "execution_count": 14,
   "metadata": {
    "colab": {
     "base_uri": "https://localhost:8080/"
    },
    "id": "DFGxgCWsT2d6",
    "outputId": "c39254e5-018d-4a74-8e9f-ea42fe6091e0"
   },
   "outputs": [
    {
     "name": "stdout",
     "output_type": "stream",
     "text": [
      "1/1 [==============================] - 0s 134ms/step\n",
      "13\n",
      "mgprob\n"
     ]
    }
   ],
   "source": [
    "img1 = image.load_img('test_data/test_data/gretit/11776135285_ccf938fa2e_o.jpg',target_size=(120,120))\n",
    "img1 = image.img_to_array(img1)\n",
    "img1 = np.expand_dims(img1,axis=0)\n",
    "pred = np.argmax(model.predict(img1))\n",
    "print(pred)\n",
    "output = ['blasti','bonegl','brhkyt','cbrtsh','cmnmyn','gretit','hilpig','himbul','himgri','hsparo','indvul','jglowl','lbicrw','mgprob','rebimg','wcrsrt']\n",
    "print(output[pred])"
   ]
  }
 ],
 "metadata": {
  "accelerator": "GPU",
  "colab": {
   "gpuType": "T4",
   "provenance": []
  },
  "kernelspec": {
   "display_name": "Python 3 (ipykernel)",
   "language": "python",
   "name": "python3"
  },
  "language_info": {
   "codemirror_mode": {
    "name": "ipython",
    "version": 3
   },
   "file_extension": ".py",
   "mimetype": "text/x-python",
   "name": "python",
   "nbconvert_exporter": "python",
   "pygments_lexer": "ipython3",
   "version": "3.11.3"
  }
 },
 "nbformat": 4,
 "nbformat_minor": 1
}
